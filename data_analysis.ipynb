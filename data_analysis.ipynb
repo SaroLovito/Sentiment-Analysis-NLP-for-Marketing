{
 "cells": [
  {
   "cell_type": "markdown",
   "metadata": {},
   "source": [
    "### Creating a Dictionary-based Sentiment Analyzer"
   ]
  },
  {
   "cell_type": "code",
   "execution_count": 36,
   "metadata": {},
   "outputs": [],
   "source": [
    "import pandas as pd\n",
    "import nltk\n",
    "pd.set_option('display.max_columns', None)\n",
    "import nltk\n"
   ]
  },
  {
   "cell_type": "markdown",
   "metadata": {},
   "source": [
    "Step 1: Loading in the small_corpus .csv file created in the \"creating_dataset\" milestone."
   ]
  },
  {
   "cell_type": "code",
   "execution_count": 37,
   "metadata": {},
   "outputs": [],
   "source": [
    "reviews = pd.read_csv(\"/Users/lorenzo/Desktop/Sentiment-Analysis-NLP-for-Marketing/data/small_corpus.csv\")"
   ]
  },
  {
   "cell_type": "markdown",
   "metadata": {},
   "source": [
    "Step 2: Tokenizing the sentences and words of the reviews\n",
    "Here, We're going to test different versions of word tokenizer on reviews. We'll then decide which tokenizer might be better to use.\n",
    "\n"
   ]
  },
  {
   "cell_type": "markdown",
   "metadata": {},
   "source": [
    "## Treebank Word Tokenizer"
   ]
  },
  {
   "cell_type": "code",
   "execution_count": 38,
   "metadata": {},
   "outputs": [],
   "source": [
    "from nltk.tokenize import TreebankWordTokenizer\n",
    "from string import punctuation\n",
    "import string"
   ]
  },
  {
   "cell_type": "code",
   "execution_count": 39,
   "metadata": {},
   "outputs": [],
   "source": [
    "tb_tokenizer = TreebankWordTokenizer()"
   ]
  },
  {
   "cell_type": "code",
   "execution_count": 40,
   "metadata": {},
   "outputs": [],
   "source": [
    "reviews[\"rev_text_lower\"] = reviews['reviewText'].apply(lambda rev: str(rev)\\\n",
    "                                                        .translate(str.maketrans('', '', punctuation))\\\n",
    "                                                        .replace(\"<br />\", \" \")\\\n",
    "                                                        .lower())"
   ]
  },
  {
   "cell_type": "code",
   "execution_count": 41,
   "metadata": {},
   "outputs": [
    {
     "data": {
      "text/html": [
       "<div>\n",
       "<style scoped>\n",
       "    .dataframe tbody tr th:only-of-type {\n",
       "        vertical-align: middle;\n",
       "    }\n",
       "\n",
       "    .dataframe tbody tr th {\n",
       "        vertical-align: top;\n",
       "    }\n",
       "\n",
       "    .dataframe thead th {\n",
       "        text-align: right;\n",
       "    }\n",
       "</style>\n",
       "<table border=\"1\" class=\"dataframe\">\n",
       "  <thead>\n",
       "    <tr style=\"text-align: right;\">\n",
       "      <th></th>\n",
       "      <th>reviewText</th>\n",
       "      <th>rev_text_lower</th>\n",
       "    </tr>\n",
       "  </thead>\n",
       "  <tbody>\n",
       "    <tr>\n",
       "      <th>3698</th>\n",
       "      <td>These cables to the trick. My dog had eaten th...</td>\n",
       "      <td>these cables to the trick my dog had eaten the...</td>\n",
       "    </tr>\n",
       "    <tr>\n",
       "      <th>3728</th>\n",
       "      <td>I've been playing this game for 2 years single...</td>\n",
       "      <td>ive been playing this game for 2 years single ...</td>\n",
       "    </tr>\n",
       "  </tbody>\n",
       "</table>\n",
       "</div>"
      ],
      "text/plain": [
       "                                             reviewText  \\\n",
       "3698  These cables to the trick. My dog had eaten th...   \n",
       "3728  I've been playing this game for 2 years single...   \n",
       "\n",
       "                                         rev_text_lower  \n",
       "3698  these cables to the trick my dog had eaten the...  \n",
       "3728  ive been playing this game for 2 years single ...  "
      ]
     },
     "execution_count": 41,
     "metadata": {},
     "output_type": "execute_result"
    }
   ],
   "source": [
    "reviews[['reviewText','rev_text_lower']].sample(2)"
   ]
  },
  {
   "cell_type": "code",
   "execution_count": 42,
   "metadata": {},
   "outputs": [],
   "source": [
    "reviews[\"tb_tokens\"] = reviews['rev_text_lower'].apply(lambda rev: tb_tokenizer.tokenize(str(rev)))"
   ]
  },
  {
   "cell_type": "markdown",
   "metadata": {},
   "source": [
    "### Casual Tokenizer"
   ]
  },
  {
   "cell_type": "code",
   "execution_count": 44,
   "metadata": {},
   "outputs": [],
   "source": [
    "from nltk.tokenize.casual import casual_tokenize"
   ]
  },
  {
   "cell_type": "code",
   "execution_count": 45,
   "metadata": {},
   "outputs": [],
   "source": [
    "reviews['casual_tokens'] = reviews['rev_text_lower'].apply(lambda rev: casual_tokenize(str(rev)))"
   ]
  },
  {
   "cell_type": "code",
   "execution_count": 46,
   "metadata": {},
   "outputs": [
    {
     "data": {
      "text/html": [
       "<div>\n",
       "<style scoped>\n",
       "    .dataframe tbody tr th:only-of-type {\n",
       "        vertical-align: middle;\n",
       "    }\n",
       "\n",
       "    .dataframe tbody tr th {\n",
       "        vertical-align: top;\n",
       "    }\n",
       "\n",
       "    .dataframe thead th {\n",
       "        text-align: right;\n",
       "    }\n",
       "</style>\n",
       "<table border=\"1\" class=\"dataframe\">\n",
       "  <thead>\n",
       "    <tr style=\"text-align: right;\">\n",
       "      <th></th>\n",
       "      <th>reviewText</th>\n",
       "      <th>casual_tokens</th>\n",
       "      <th>tb_tokens</th>\n",
       "    </tr>\n",
       "  </thead>\n",
       "  <tbody>\n",
       "    <tr>\n",
       "      <th>741</th>\n",
       "      <td>I loved &amp;quot;Max Payne&amp;quot;. From the day I ...</td>\n",
       "      <td>[i, loved, quotmax, paynequot, from, the, day,...</td>\n",
       "      <td>[i, loved, quotmax, paynequot, from, the, day,...</td>\n",
       "    </tr>\n",
       "    <tr>\n",
       "      <th>2555</th>\n",
       "      <td>I purchased the GOW3 season pass and it was wo...</td>\n",
       "      <td>[i, purchased, the, gow, 3, season, pass, and,...</td>\n",
       "      <td>[i, purchased, the, gow3, season, pass, and, i...</td>\n",
       "    </tr>\n",
       "    <tr>\n",
       "      <th>208</th>\n",
       "      <td>Runescape's only deserving claims to fame are ...</td>\n",
       "      <td>[runescapes, only, deserving, claims, to, fame...</td>\n",
       "      <td>[runescapes, only, deserving, claims, to, fame...</td>\n",
       "    </tr>\n",
       "  </tbody>\n",
       "</table>\n",
       "</div>"
      ],
      "text/plain": [
       "                                             reviewText  \\\n",
       "741   I loved &quot;Max Payne&quot;. From the day I ...   \n",
       "2555  I purchased the GOW3 season pass and it was wo...   \n",
       "208   Runescape's only deserving claims to fame are ...   \n",
       "\n",
       "                                          casual_tokens  \\\n",
       "741   [i, loved, quotmax, paynequot, from, the, day,...   \n",
       "2555  [i, purchased, the, gow, 3, season, pass, and,...   \n",
       "208   [runescapes, only, deserving, claims, to, fame...   \n",
       "\n",
       "                                              tb_tokens  \n",
       "741   [i, loved, quotmax, paynequot, from, the, day,...  \n",
       "2555  [i, purchased, the, gow3, season, pass, and, i...  \n",
       "208   [runescapes, only, deserving, claims, to, fame...  "
      ]
     },
     "execution_count": 46,
     "metadata": {},
     "output_type": "execute_result"
    }
   ],
   "source": [
    "reviews[['reviewText','casual_tokens','tb_tokens']].sample(3)"
   ]
  },
  {
   "cell_type": "markdown",
   "metadata": {},
   "source": [
    "### Stemming"
   ]
  },
  {
   "cell_type": "code",
   "execution_count": 47,
   "metadata": {},
   "outputs": [],
   "source": [
    "from nltk.stem.porter import PorterStemmer"
   ]
  },
  {
   "cell_type": "code",
   "execution_count": 48,
   "metadata": {},
   "outputs": [],
   "source": [
    "stemmer = PorterStemmer()"
   ]
  },
  {
   "cell_type": "code",
   "execution_count": 49,
   "metadata": {},
   "outputs": [],
   "source": [
    "reviews['tokens_stemmed'] = reviews['tb_tokens'].apply(lambda words: [stemmer.stem(w) for w in words])"
   ]
  },
  {
   "cell_type": "code",
   "execution_count": 78,
   "metadata": {},
   "outputs": [
    {
     "data": {
      "text/html": [
       "<div>\n",
       "<style scoped>\n",
       "    .dataframe tbody tr th:only-of-type {\n",
       "        vertical-align: middle;\n",
       "    }\n",
       "\n",
       "    .dataframe tbody tr th {\n",
       "        vertical-align: top;\n",
       "    }\n",
       "\n",
       "    .dataframe thead th {\n",
       "        text-align: right;\n",
       "    }\n",
       "</style>\n",
       "<table border=\"1\" class=\"dataframe\">\n",
       "  <thead>\n",
       "    <tr style=\"text-align: right;\">\n",
       "      <th></th>\n",
       "      <th>tb_tokens</th>\n",
       "      <th>tokens_stemmed</th>\n",
       "    </tr>\n",
       "  </thead>\n",
       "  <tbody>\n",
       "    <tr>\n",
       "      <th>3590</th>\n",
       "      <td>[im, always, a, little, wary, when, i, buy, a,...</td>\n",
       "      <td>[im, alway, a, littl, wari, when, i, buy, a, n...</td>\n",
       "    </tr>\n",
       "    <tr>\n",
       "      <th>3927</th>\n",
       "      <td>[the, last, story, has, finally, hit, the, uni...</td>\n",
       "      <td>[the, last, stori, ha, final, hit, the, unit, ...</td>\n",
       "    </tr>\n",
       "    <tr>\n",
       "      <th>907</th>\n",
       "      <td>[hello, today, you, may, be, deciding, wether,...</td>\n",
       "      <td>[hello, today, you, may, be, decid, wether, to...</td>\n",
       "    </tr>\n",
       "  </tbody>\n",
       "</table>\n",
       "</div>"
      ],
      "text/plain": [
       "                                              tb_tokens  \\\n",
       "3590  [im, always, a, little, wary, when, i, buy, a,...   \n",
       "3927  [the, last, story, has, finally, hit, the, uni...   \n",
       "907   [hello, today, you, may, be, deciding, wether,...   \n",
       "\n",
       "                                         tokens_stemmed  \n",
       "3590  [im, alway, a, littl, wari, when, i, buy, a, n...  \n",
       "3927  [the, last, stori, ha, final, hit, the, unit, ...  \n",
       "907   [hello, today, you, may, be, decid, wether, to...  "
      ]
     },
     "execution_count": 78,
     "metadata": {},
     "output_type": "execute_result"
    }
   ],
   "source": [
    "reviews[['tb_tokens','tokens_stemmed']].sample(3)"
   ]
  },
  {
   "cell_type": "markdown",
   "metadata": {},
   "source": [
    "### Lemmatisation"
   ]
  },
  {
   "cell_type": "code",
   "execution_count": 51,
   "metadata": {},
   "outputs": [],
   "source": [
    "from nltk.stem import WordNetLemmatizer\n",
    "from nltk.corpus import wordnet as wn\n",
    "from nltk.corpus import sentiwordnet as swn\n",
    "from nltk import sent_tokenize, word_tokenize, pos_tag"
   ]
  },
  {
   "cell_type": "code",
   "execution_count": 52,
   "metadata": {},
   "outputs": [],
   "source": [
    "def penn_to_wn(tag):\n",
    "    \"\"\"\n",
    "        Convert between the PennTreebank tags to simple Wordnet tags\n",
    "    \"\"\"\n",
    "    if tag.startswith('J'):\n",
    "        return wn.ADJ\n",
    "    elif tag.startswith('N'):\n",
    "        return wn.NOUN\n",
    "    elif tag.startswith('R'):\n",
    "        return wn.ADV\n",
    "    elif tag.startswith('V'):\n",
    "        return wn.VERB\n",
    "    return None"
   ]
  },
  {
   "cell_type": "code",
   "execution_count": 58,
   "metadata": {},
   "outputs": [],
   "source": [
    "lemmatizer = WordNetLemmatizer()\n",
    "def get_lemmas(tokens):\n",
    "    lemmas = []\n",
    "    for token in tokens:\n",
    "        pos = penn_to_wn(pos_tag([token])[0][1])\n",
    "        if pos:\n",
    "            lemma = lemmatizer.lemmatize(token, pos)\n",
    "            if lemma:\n",
    "                lemmas.append(lemma)\n",
    "    return lemmas"
   ]
  },
  {
   "cell_type": "code",
   "execution_count": 65,
   "metadata": {},
   "outputs": [
    {
     "data": {
      "text/plain": [
       "0       [this, game, looks, good, and, the, story, is,...\n",
       "1       [i, want, to, like, this, game, i, really, do,...\n",
       "2       [this, game, is, horrible, the, best, part, of...\n",
       "3       [i, loved, the, original, alice, although, i, ...\n",
       "4       [i, was, very, excited, to, get, this, for, my...\n",
       "                              ...                        \n",
       "4495    [this, has, got, to, be, the, best, one, of, t...\n",
       "4496    [this, game, is, very, good, there, are, lots,...\n",
       "4497    [one, of, the, best, 5, games, aside, from, th...\n",
       "4498    [some, of, you, might, be, wondering, is, the,...\n",
       "4499    [my, son, has, managed, to, improve, his, guit...\n",
       "Name: tb_tokens, Length: 4500, dtype: object"
      ]
     },
     "execution_count": 65,
     "metadata": {},
     "output_type": "execute_result"
    }
   ],
   "source": []
  },
  {
   "cell_type": "code",
   "execution_count": 84,
   "metadata": {},
   "outputs": [],
   "source": [
    "reviews['lemmas'] = reviews['tb_tokens'].apply(lambda tokens: get_lemmas(tokens))"
   ]
  },
  {
   "cell_type": "code",
   "execution_count": 83,
   "metadata": {},
   "outputs": [
    {
     "data": {
      "text/html": [
       "<div>\n",
       "<style scoped>\n",
       "    .dataframe tbody tr th:only-of-type {\n",
       "        vertical-align: middle;\n",
       "    }\n",
       "\n",
       "    .dataframe tbody tr th {\n",
       "        vertical-align: top;\n",
       "    }\n",
       "\n",
       "    .dataframe thead th {\n",
       "        text-align: right;\n",
       "    }\n",
       "</style>\n",
       "<table border=\"1\" class=\"dataframe\">\n",
       "  <thead>\n",
       "    <tr style=\"text-align: right;\">\n",
       "      <th></th>\n",
       "      <th>reviewText</th>\n",
       "      <th>tokens_stemmed</th>\n",
       "      <th>lemmas</th>\n",
       "    </tr>\n",
       "  </thead>\n",
       "  <tbody>\n",
       "    <tr>\n",
       "      <th>1710</th>\n",
       "      <td>Being a huge Star Wars fan as a kid, and moder...</td>\n",
       "      <td>[be, a, huge, star, war, fan, as, a, kid, and,...</td>\n",
       "      <td>[be, huge, star, war, fan, kid, moderately, ad...</td>\n",
       "    </tr>\n",
       "    <tr>\n",
       "      <th>872</th>\n",
       "      <td>The other reviews have discussed each major sh...</td>\n",
       "      <td>[the, other, review, have, discuss, each, majo...</td>\n",
       "      <td>[other, review, have, discuss, major, shortcom...</td>\n",
       "    </tr>\n",
       "  </tbody>\n",
       "</table>\n",
       "</div>"
      ],
      "text/plain": [
       "                                             reviewText  \\\n",
       "1710  Being a huge Star Wars fan as a kid, and moder...   \n",
       "872   The other reviews have discussed each major sh...   \n",
       "\n",
       "                                         tokens_stemmed  \\\n",
       "1710  [be, a, huge, star, war, fan, as, a, kid, and,...   \n",
       "872   [the, other, review, have, discuss, each, majo...   \n",
       "\n",
       "                                                 lemmas  \n",
       "1710  [be, huge, star, war, fan, kid, moderately, ad...  \n",
       "872   [other, review, have, discuss, major, shortcom...  "
      ]
     },
     "execution_count": 83,
     "metadata": {},
     "output_type": "execute_result"
    }
   ],
   "source": [
    "reviews[['reviewText','tokens_stemmed','lemmas']].sample(2)"
   ]
  },
  {
   "cell_type": "code",
   "execution_count": 85,
   "metadata": {},
   "outputs": [],
   "source": [
    "def get_sentiment_score(tokens):\n",
    "    score = 0\n",
    "    tags = pos_tag(tokens)\n",
    "    for word, tag in tags:\n",
    "        wn_tag = penn_to_wn(tag)\n",
    "        if not wn_tag:\n",
    "            continue\n",
    "        synsets = wn.synsets(word, pos=wn_tag)\n",
    "        if not synsets:\n",
    "            continue\n",
    "        \n",
    "        #most common set:\n",
    "        synset = synsets[0]\n",
    "        swn_synset = swn.senti_synset(synset.name())\n",
    "        \n",
    "        score += (swn_synset.pos_score() - swn_synset.neg_score())\n",
    "        \n",
    "    return score\n",
    "                    "
   ]
  },
  {
   "cell_type": "markdown",
   "metadata": {},
   "source": [
    "Sentiment Predictor Baseline Model"
   ]
  },
  {
   "cell_type": "code",
   "execution_count": 86,
   "metadata": {},
   "outputs": [
    {
     "data": {
      "text/plain": [
       "0.625"
      ]
     },
     "execution_count": 86,
     "metadata": {},
     "output_type": "execute_result"
    }
   ],
   "source": [
    "\n",
    "## test\n",
    "swn.senti_synset(wn.synsets(\"perfect\", wn.ADJ)[0].name()).pos_score()"
   ]
  },
  {
   "cell_type": "code",
   "execution_count": 87,
   "metadata": {},
   "outputs": [],
   "source": [
    "reviews['sentiment_score'] = reviews['lemmas'].apply(lambda tokens: get_sentiment_score(tokens))"
   ]
  },
  {
   "cell_type": "code",
   "execution_count": 88,
   "metadata": {},
   "outputs": [
    {
     "data": {
      "text/html": [
       "<div>\n",
       "<style scoped>\n",
       "    .dataframe tbody tr th:only-of-type {\n",
       "        vertical-align: middle;\n",
       "    }\n",
       "\n",
       "    .dataframe tbody tr th {\n",
       "        vertical-align: top;\n",
       "    }\n",
       "\n",
       "    .dataframe thead th {\n",
       "        text-align: right;\n",
       "    }\n",
       "</style>\n",
       "<table border=\"1\" class=\"dataframe\">\n",
       "  <thead>\n",
       "    <tr style=\"text-align: right;\">\n",
       "      <th></th>\n",
       "      <th>reviewText</th>\n",
       "      <th>lemmas</th>\n",
       "      <th>sentiment_score</th>\n",
       "    </tr>\n",
       "  </thead>\n",
       "  <tbody>\n",
       "    <tr>\n",
       "      <th>3592</th>\n",
       "      <td>This is a funny game.In Play Station 3, you ne...</td>\n",
       "      <td>[be, funny, gamein, play, station, need, just,...</td>\n",
       "      <td>-0.500</td>\n",
       "    </tr>\n",
       "    <tr>\n",
       "      <th>3213</th>\n",
       "      <td>df fgf g hvg f dd d fg hyu  jng ded r45 y ed e...</td>\n",
       "      <td>[df, fgf, g, hvg, f, dd, d, fg, hyu, jng, ded,...</td>\n",
       "      <td>-1.000</td>\n",
       "    </tr>\n",
       "    <tr>\n",
       "      <th>3067</th>\n",
       "      <td>I have played different shooters in the past, ...</td>\n",
       "      <td>[i, have, played, different, shooter, past, ga...</td>\n",
       "      <td>3.250</td>\n",
       "    </tr>\n",
       "    <tr>\n",
       "      <th>235</th>\n",
       "      <td>Half the time it doesn't even turn on, and no,...</td>\n",
       "      <td>[half, time, doesnt, even, turn, not, finally,...</td>\n",
       "      <td>0.375</td>\n",
       "    </tr>\n",
       "    <tr>\n",
       "      <th>1777</th>\n",
       "      <td>EA apparently released this game before it was...</td>\n",
       "      <td>[ea, apparently, release, game, be, finish, gr...</td>\n",
       "      <td>-0.125</td>\n",
       "    </tr>\n",
       "  </tbody>\n",
       "</table>\n",
       "</div>"
      ],
      "text/plain": [
       "                                             reviewText  \\\n",
       "3592  This is a funny game.In Play Station 3, you ne...   \n",
       "3213  df fgf g hvg f dd d fg hyu  jng ded r45 y ed e...   \n",
       "3067  I have played different shooters in the past, ...   \n",
       "235   Half the time it doesn't even turn on, and no,...   \n",
       "1777  EA apparently released this game before it was...   \n",
       "\n",
       "                                                 lemmas  sentiment_score  \n",
       "3592  [be, funny, gamein, play, station, need, just,...           -0.500  \n",
       "3213  [df, fgf, g, hvg, f, dd, d, fg, hyu, jng, ded,...           -1.000  \n",
       "3067  [i, have, played, different, shooter, past, ga...            3.250  \n",
       "235   [half, time, doesnt, even, turn, not, finally,...            0.375  \n",
       "1777  [ea, apparently, release, game, be, finish, gr...           -0.125  "
      ]
     },
     "execution_count": 88,
     "metadata": {},
     "output_type": "execute_result"
    }
   ],
   "source": [
    "reviews[['reviewText','lemmas','sentiment_score']].sample(5)"
   ]
  }
 ],
 "metadata": {
  "kernelspec": {
   "display_name": "Python 3.7.13 ('tensorflow_env')",
   "language": "python",
   "name": "python3"
  },
  "language_info": {
   "codemirror_mode": {
    "name": "ipython",
    "version": 3
   },
   "file_extension": ".py",
   "mimetype": "text/x-python",
   "name": "python",
   "nbconvert_exporter": "python",
   "pygments_lexer": "ipython3",
   "version": "3.7.13"
  },
  "orig_nbformat": 4,
  "vscode": {
   "interpreter": {
    "hash": "c46df576936c8255b1c2554cedc1eb44982b877a37736dc6e33d18af7b82b03d"
   }
  }
 },
 "nbformat": 4,
 "nbformat_minor": 2
}
