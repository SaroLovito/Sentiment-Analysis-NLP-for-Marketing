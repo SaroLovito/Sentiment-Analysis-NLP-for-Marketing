{
 "cells": [
  {
   "cell_type": "code",
   "execution_count": 2,
   "metadata": {},
   "outputs": [],
   "source": [
    "from nltk import sent_tokenize, pos_tag\n",
    "from nltk.tokenize import TreebankWordTokenizer\n",
    "from nltk.stem import WordNetLemmatizer\n",
    "from nltk.corpus import wordnet as wn\n",
    "from nltk.corpus import sentiwordnet as swn\n",
    "from nltk.sentiment.util import mark_negation\n",
    "from string import punctuation\n",
    "from IPython.display import display\n",
    "import pandas as pd\n",
    "import numpy as np\n",
    "import seaborn as sns\n",
    "import matplotlib.pyplot as plt\n",
    "pd.set_option('display.max_columns', None)\n",
    "pd.set_option('display.max_colwidth', None)"
   ]
  },
  {
   "cell_type": "markdown",
   "metadata": {},
   "source": [
    "Sentiment Scoring Using SentiWordNet"
   ]
  },
  {
   "cell_type": "code",
   "execution_count": 3,
   "metadata": {},
   "outputs": [],
   "source": [
    "def penn_to_wn(tag):\n",
    "    \"\"\"\n",
    "        Convert between the PennTreebank tags to simple Wordnet tags\n",
    "    \"\"\"\n",
    "    if tag.startswith('J'):\n",
    "        return wn.ADJ\n",
    "    elif tag.startswith('N'):\n",
    "        return wn.NOUN\n",
    "    elif tag.startswith('R'):\n",
    "        return wn.ADV\n",
    "    elif tag.startswith('V'):\n",
    "        return wn.VERB\n",
    "    return None"
   ]
  },
  {
   "cell_type": "code",
   "execution_count": 4,
   "metadata": {},
   "outputs": [],
   "source": [
    "def get_sentiment_score(text):\n",
    "    \n",
    "    \"\"\"\n",
    "        This method returns the sentiment score of a given text using SentiWordNet sentiment scores.\n",
    "        input: text\n",
    "        output: numeric (double) score, >0 means positive sentiment and <0 means negative sentiment.\n",
    "    \"\"\"    \n",
    "    total_score = 0\n",
    "    #print(text)\n",
    "    raw_sentences = sent_tokenize(text)\n",
    "    #print(raw_sentences)\n",
    "    \n",
    "    for sentence in raw_sentences:\n",
    "\n",
    "        sent_score = 0     \n",
    "        sentence = str(sentence)\n",
    "        #print(sentence)\n",
    "        sentence = sentence.replace(\"<br />\",\" \").translate(str.maketrans('','',punctuation)).lower()\n",
    "        tokens = TreebankWordTokenizer().tokenize(text)\n",
    "        tags = pos_tag(tokens)\n",
    "        for word, tag in tags:\n",
    "            wn_tag = penn_to_wn(tag)\n",
    "            if not wn_tag:\n",
    "                continue\n",
    "            lemma = WordNetLemmatizer().lemmatize(word, pos=wn_tag)\n",
    "            if not lemma:\n",
    "                continue\n",
    "            synsets = wn.synsets(lemma, pos=wn_tag)\n",
    "            if not synsets:\n",
    "                continue\n",
    "            synset = synsets[0]\n",
    "            swn_synset = swn.senti_synset(synset.name())\n",
    "            sent_score += swn_synset.pos_score() - swn_synset.neg_score()\n",
    "\n",
    "        total_score = total_score + (sent_score / len(tokens))\n",
    "\n",
    "    \n",
    "    return (total_score / len(raw_sentences)) * 100\n"
   ]
  },
  {
   "cell_type": "code",
   "execution_count": 5,
   "metadata": {},
   "outputs": [],
   "source": [
    "reviews = pd.read_csv(\"/Users/lorenzo/Desktop/Sentiment-Analysis-NLP-for-Marketing/data/small_corpus.csv\")"
   ]
  },
  {
   "cell_type": "code",
   "execution_count": 7,
   "metadata": {},
   "outputs": [
    {
     "data": {
      "text/plain": [
       "(4500, 9)"
      ]
     },
     "execution_count": 7,
     "metadata": {},
     "output_type": "execute_result"
    }
   ],
   "source": [
    "reviews.shape"
   ]
  },
  {
   "cell_type": "code",
   "execution_count": 8,
   "metadata": {},
   "outputs": [
    {
     "data": {
      "text/html": [
       "<div>\n",
       "<style scoped>\n",
       "    .dataframe tbody tr th:only-of-type {\n",
       "        vertical-align: middle;\n",
       "    }\n",
       "\n",
       "    .dataframe tbody tr th {\n",
       "        vertical-align: top;\n",
       "    }\n",
       "\n",
       "    .dataframe thead th {\n",
       "        text-align: right;\n",
       "    }\n",
       "</style>\n",
       "<table border=\"1\" class=\"dataframe\">\n",
       "  <thead>\n",
       "    <tr style=\"text-align: right;\">\n",
       "      <th></th>\n",
       "      <th>reviewerID</th>\n",
       "      <th>asin</th>\n",
       "      <th>reviewerName</th>\n",
       "      <th>helpful</th>\n",
       "      <th>reviewText</th>\n",
       "      <th>overall</th>\n",
       "      <th>summary</th>\n",
       "      <th>unixReviewTime</th>\n",
       "      <th>reviewTime</th>\n",
       "    </tr>\n",
       "  </thead>\n",
       "  <tbody>\n",
       "    <tr>\n",
       "      <th>0</th>\n",
       "      <td>AH39B9V4C73GM</td>\n",
       "      <td>B00004TC6E</td>\n",
       "      <td>scrotum</td>\n",
       "      <td>[2, 22]</td>\n",
       "      <td>this game looks good, and the story is great but the game does not deliver the goods. The problem I have most with the game is serge the main character never talks, that is just plain lazyness you just get the feeling that serge is just  lifeless and is not intristing at all. Since the game has so many characters in it, it seems that most of the other characters as lifeless as serge and have no pointe in ever bieng introduced to the plot.I feel thair is a limit to the number of characters in a game that will still make the game intristing. And I am sorry Game Informer, but this game does not restore my faith in the modern RPG(you have to read thair great magazine to know what I am talking about) Square could do better, I have seen it done.</td>\n",
       "      <td>1.0</td>\n",
       "      <td>week</td>\n",
       "      <td>981936000</td>\n",
       "      <td>02 12, 2001</td>\n",
       "    </tr>\n",
       "    <tr>\n",
       "      <th>1</th>\n",
       "      <td>A3L6D4MQ95KTEW</td>\n",
       "      <td>B003JVCA9Q</td>\n",
       "      <td>ACE4x</td>\n",
       "      <td>[5, 15]</td>\n",
       "      <td>I want to like this game. I really do. But it \"feels\" so much like WaW and I couldn't get into it. The graphics feel choppy and it is no where close to being on par with MW2. Campaign has a good story tho but thats really nothing when the multiplayer blows. A real let down, I was expecting something less than MW2 but not THIS LESS.I was hoping to spend countless hours on this one as i've done with the previous COD's but I just ended up going back to playing my other shooters like MW/MW2 BFBC2 KZ2 and yes, even MOH. Probably gonna sell it.</td>\n",
       "      <td>1.0</td>\n",
       "      <td>Just...Not...Good</td>\n",
       "      <td>1289433600</td>\n",
       "      <td>11 11, 2010</td>\n",
       "    </tr>\n",
       "    <tr>\n",
       "      <th>2</th>\n",
       "      <td>A3JNTC2Y5J1QKU</td>\n",
       "      <td>B0001AVSH8</td>\n",
       "      <td>Scott</td>\n",
       "      <td>[2, 3]</td>\n",
       "      <td>this game is horrible. the best part of the game was the training mode, where you could run around and shoot moving targets like duck hunt. even then, the controls were worse than GTA. it's difficult to shoot accurately. the programmers know this, thats why as long as the target turns red, its a hit, even if it looks like a no chance shot. You can drag bodies and switch clothes, but it all seems rather pointless. you can try and sneak around, but it seems like it doesnt matter. you can just kill them however you want anyway. reloading is riduclously slow too, and before you die, time slows down and so it seems like it takes f o r e v e r. There are a lot of other games out there. I don't recommend wasting cash on this one. if you're looking for a shooter like halo, try kill switch. if you're looking for a sneak around game like metal gear, try tenchu. if you're just looking for more violence, take it up a notch and try manhunt. save your money and pass on hitman.</td>\n",
       "      <td>1.0</td>\n",
       "      <td>Garbage</td>\n",
       "      <td>1085356800</td>\n",
       "      <td>05 24, 2004</td>\n",
       "    </tr>\n",
       "    <tr>\n",
       "      <th>3</th>\n",
       "      <td>A3PVM541IR8EYE</td>\n",
       "      <td>B004CD9X2W</td>\n",
       "      <td>Doug Urquhart</td>\n",
       "      <td>[1, 4]</td>\n",
       "      <td>I loved the original Alice. Although I am, by gamer standards, somewhat of a codger, I could make my way through the trickier segments by carefully saving before the harder parts, and restoring after the inevitable failure.This is no longer possible in Alice 2 - there's auto-save (determined by position), and that's it. Result? Try to jump a series of obstacles, miss the last jump, and be taken right back to the beginning. I've done this several times now, and I'm stuck at the beginning of the game.This is supposed to be an Adventure game - dexterity and kiddie reflexes shouldn't be important.I've been developing software for nearly half a century - I recognize a shortcut when I see one. Not acceptable.</td>\n",
       "      <td>1.0</td>\n",
       "      <td>No manual save: no boomer appeal.</td>\n",
       "      <td>1353628800</td>\n",
       "      <td>11 23, 2012</td>\n",
       "    </tr>\n",
       "    <tr>\n",
       "      <th>4</th>\n",
       "      <td>A3QC6IWLGA4YXJ</td>\n",
       "      <td>B004QDV76S</td>\n",
       "      <td>Julie K. Ladd \"Julie Ladd\"</td>\n",
       "      <td>[1, 1]</td>\n",
       "      <td>I was very excited to get this for my husband who talks with his buddies while playing xbox.. he used it for 2 days(I am serious) and it was broken. Sound wasn't coming through, and no one could hear him talking back. Very sad that it didn't work. I can't say that I blaim the company because it may have been damaged by shipping.</td>\n",
       "      <td>1.0</td>\n",
       "      <td>sadly disapointed</td>\n",
       "      <td>1379980800</td>\n",
       "      <td>09 24, 2013</td>\n",
       "    </tr>\n",
       "  </tbody>\n",
       "</table>\n",
       "</div>"
      ],
      "text/plain": [
       "       reviewerID        asin                reviewerName  helpful  \\\n",
       "0   AH39B9V4C73GM  B00004TC6E                     scrotum  [2, 22]   \n",
       "1  A3L6D4MQ95KTEW  B003JVCA9Q                       ACE4x  [5, 15]   \n",
       "2  A3JNTC2Y5J1QKU  B0001AVSH8                       Scott   [2, 3]   \n",
       "3  A3PVM541IR8EYE  B004CD9X2W               Doug Urquhart   [1, 4]   \n",
       "4  A3QC6IWLGA4YXJ  B004QDV76S  Julie K. Ladd \"Julie Ladd\"   [1, 1]   \n",
       "\n",
       "                                                                                                                                                                                                                                                                                                                                                                                                                                                                                                                                                                                                                                                                                                                                                                                                                                                                                                                                                                                                          reviewText  \\\n",
       "0                                                                                                                                                                                                                                      this game looks good, and the story is great but the game does not deliver the goods. The problem I have most with the game is serge the main character never talks, that is just plain lazyness you just get the feeling that serge is just  lifeless and is not intristing at all. Since the game has so many characters in it, it seems that most of the other characters as lifeless as serge and have no pointe in ever bieng introduced to the plot.I feel thair is a limit to the number of characters in a game that will still make the game intristing. And I am sorry Game Informer, but this game does not restore my faith in the modern RPG(you have to read thair great magazine to know what I am talking about) Square could do better, I have seen it done.   \n",
       "1                                                                                                                                                                                                                                                                                                                                                                                                                                                   I want to like this game. I really do. But it \"feels\" so much like WaW and I couldn't get into it. The graphics feel choppy and it is no where close to being on par with MW2. Campaign has a good story tho but thats really nothing when the multiplayer blows. A real let down, I was expecting something less than MW2 but not THIS LESS.I was hoping to spend countless hours on this one as i've done with the previous COD's but I just ended up going back to playing my other shooters like MW/MW2 BFBC2 KZ2 and yes, even MOH. Probably gonna sell it.   \n",
       "2  this game is horrible. the best part of the game was the training mode, where you could run around and shoot moving targets like duck hunt. even then, the controls were worse than GTA. it's difficult to shoot accurately. the programmers know this, thats why as long as the target turns red, its a hit, even if it looks like a no chance shot. You can drag bodies and switch clothes, but it all seems rather pointless. you can try and sneak around, but it seems like it doesnt matter. you can just kill them however you want anyway. reloading is riduclously slow too, and before you die, time slows down and so it seems like it takes f o r e v e r. There are a lot of other games out there. I don't recommend wasting cash on this one. if you're looking for a shooter like halo, try kill switch. if you're looking for a sneak around game like metal gear, try tenchu. if you're just looking for more violence, take it up a notch and try manhunt. save your money and pass on hitman.   \n",
       "3                                                                                                                                                                                                                                                                           I loved the original Alice. Although I am, by gamer standards, somewhat of a codger, I could make my way through the trickier segments by carefully saving before the harder parts, and restoring after the inevitable failure.This is no longer possible in Alice 2 - there's auto-save (determined by position), and that's it. Result? Try to jump a series of obstacles, miss the last jump, and be taken right back to the beginning. I've done this several times now, and I'm stuck at the beginning of the game.This is supposed to be an Adventure game - dexterity and kiddie reflexes shouldn't be important.I've been developing software for nearly half a century - I recognize a shortcut when I see one. Not acceptable.   \n",
       "4                                                                                                                                                                                                                                                                                                                                                                                                                                                                                                                                                                                                                                                                         I was very excited to get this for my husband who talks with his buddies while playing xbox.. he used it for 2 days(I am serious) and it was broken. Sound wasn't coming through, and no one could hear him talking back. Very sad that it didn't work. I can't say that I blaim the company because it may have been damaged by shipping.   \n",
       "\n",
       "   overall                            summary  unixReviewTime   reviewTime  \n",
       "0      1.0                               week       981936000  02 12, 2001  \n",
       "1      1.0                  Just...Not...Good      1289433600  11 11, 2010  \n",
       "2      1.0                            Garbage      1085356800  05 24, 2004  \n",
       "3      1.0  No manual save: no boomer appeal.      1353628800  11 23, 2012  \n",
       "4      1.0                  sadly disapointed      1379980800  09 24, 2013  "
      ]
     },
     "execution_count": 8,
     "metadata": {},
     "output_type": "execute_result"
    }
   ],
   "source": [
    "reviews.head()"
   ]
  },
  {
   "cell_type": "code",
   "execution_count": 9,
   "metadata": {},
   "outputs": [],
   "source": [
    "reviews.dropna(subset=['reviewText'], inplace=True)"
   ]
  },
  {
   "cell_type": "code",
   "execution_count": 10,
   "metadata": {},
   "outputs": [
    {
     "data": {
      "text/plain": [
       "(4499, 9)"
      ]
     },
     "execution_count": 10,
     "metadata": {},
     "output_type": "execute_result"
    }
   ],
   "source": [
    "reviews.shape"
   ]
  },
  {
   "cell_type": "code",
   "execution_count": 17,
   "metadata": {},
   "outputs": [
    {
     "data": {
      "text/plain": [
       "0                                                                                                                                                                                                                                                                                                                                                                                                                                                                                                                                                                                                                                  this game looks good, and the story is great but the game does not deliver the goods. The problem I have most with the game is serge the main character never talks, that is just plain lazyness you just get the feeling that serge is just  lifeless and is not intristing at all. Since the game has so many characters in it, it seems that most of the other characters as lifeless as serge and have no pointe in ever bieng introduced to the plot.I feel thair is a limit to the number of characters in a game that will still make the game intristing. And I am sorry Game Informer, but this game does not restore my faith in the modern RPG(you have to read thair great magazine to know what I am talking about) Square could do better, I have seen it done.\n",
       "1                                                                                                                                                                                                                                                                                                                                                                                                                                                                                                                                                                                                                                                                                                                                                                                                                                               I want to like this game. I really do. But it \"feels\" so much like WaW and I couldn't get into it. The graphics feel choppy and it is no where close to being on par with MW2. Campaign has a good story tho but thats really nothing when the multiplayer blows. A real let down, I was expecting something less than MW2 but not THIS LESS.I was hoping to spend countless hours on this one as i've done with the previous COD's but I just ended up going back to playing my other shooters like MW/MW2 BFBC2 KZ2 and yes, even MOH. Probably gonna sell it.\n",
       "2                                                                                                                                                                                                                                                                                                                                                                                              this game is horrible. the best part of the game was the training mode, where you could run around and shoot moving targets like duck hunt. even then, the controls were worse than GTA. it's difficult to shoot accurately. the programmers know this, thats why as long as the target turns red, its a hit, even if it looks like a no chance shot. You can drag bodies and switch clothes, but it all seems rather pointless. you can try and sneak around, but it seems like it doesnt matter. you can just kill them however you want anyway. reloading is riduclously slow too, and before you die, time slows down and so it seems like it takes f o r e v e r. There are a lot of other games out there. I don't recommend wasting cash on this one. if you're looking for a shooter like halo, try kill switch. if you're looking for a sneak around game like metal gear, try tenchu. if you're just looking for more violence, take it up a notch and try manhunt. save your money and pass on hitman.\n",
       "3                                                                                                                                                                                                                                                                                                                                                                                                                                                                                                                                                                                                                                                                       I loved the original Alice. Although I am, by gamer standards, somewhat of a codger, I could make my way through the trickier segments by carefully saving before the harder parts, and restoring after the inevitable failure.This is no longer possible in Alice 2 - there's auto-save (determined by position), and that's it. Result? Try to jump a series of obstacles, miss the last jump, and be taken right back to the beginning. I've done this several times now, and I'm stuck at the beginning of the game.This is supposed to be an Adventure game - dexterity and kiddie reflexes shouldn't be important.I've been developing software for nearly half a century - I recognize a shortcut when I see one. Not acceptable.\n",
       "4                                                                                                                                                                                                                                                                                                                                                                                                                                                                                                                                                                                                                                                                                                                                                                                                                                                                                                                                                                                                                                                                     I was very excited to get this for my husband who talks with his buddies while playing xbox.. he used it for 2 days(I am serious) and it was broken. Sound wasn't coming through, and no one could hear him talking back. Very sad that it didn't work. I can't say that I blaim the company because it may have been damaged by shipping.\n",
       "                                                                                                                                                                                                                                                                                                                                                                                                                                                                                                                                                                                                                                                                                                          ...                                                                                                                                                                                                                                                                                                                                                                                                                                                                                                                                                                                                                                                                                                   \n",
       "4495                                                                                                                                                                                                                                                                                                                                                                                                                                                                                                                                                                                                                                                                                                                                                                                                                                                                                                                                                                                                                                                                                                                                                                                                     This has got to be the best one of the playstation one series.Can't wait for my ps2 to arrive to continue the series,hopefully they will be better than Ace Combat 3 which was an utter disappointment.\n",
       "4496                                                                                                                                                                                                                                                                                                                                                                                                                                                                                                                                                                                                                                                                                                                                                                                                                                                                                                                                                                                                                                                                                                                                                                      This game is very good. There are lots of thing in it like we can dive slow motion and kill the enemy nearby and we can gunpoint the enemy and we can also call our dog shadow to kill the enemy and many more things we can do in it.\n",
       "4497                                                                                                                                                                                                                                                                                                                                                                                                                                                                                                                                                                                                                                                                                                                                                                                                                                                                                                                                                                                                                                                                                                                                                                                                            one of the best 5 games aside from the batman arkham series and the elder scrolls i have played.. worth every penny and the replay value is incredible!! would very much suggest this to others!\n",
       "4498    Some of you might be wondering is the NEW hitman any good? I know going into it I was concerned. Why? I will give you a quick reason 'why' Have you played the new Resident Evil 6? Thats why. When games get this far in the sequels department they start messing with what works and try NEW things. Well they messed up RE6 so bad I was afraid to get any new games but thankfully HITMAN ABSOLUTION is as good as the others with more to offer. Check the rundown below-Pros+Best looking hitman yet (game graphics)+Still violent (Not toned down)+Still same gameplay you have learned to love+Play how you want, silent or like a crazy gunman.+Good game length+A LOT and I mean A LOT of replay value. (just like blood money, I played endless hours and never gets old)+A lot of funCons-noneI have nothing negative to say about this game. Im extremely happy with it and it has taken away my gunshy take on buying new games after RE6 terrible terrible game(if you want to read more on RE6 review I did one). Also, a side note. Playing this game really really makes me wish they would make a MANHUNT 3. I picture it to be like this only way more violent and dark. Make it happen!Long story short, if you love the other hitman games get this one. Keeps everything the same but just ups the graphics and adds a few new things to better the over all play. Loads of fun!\n",
       "4499                                                                                                                                                                                                                                                                                                                                                                                                                                                                                                                                                                                                                                                                                                                                                                                                                                                                                                                                                                                                                                                                                                                                                                                                                                                         My son has managed to improve his guitar skills utilizing this PS3 learning tool.  He has improved greatly without having to attend costly classes.\n",
       "Name: reviewText, Length: 4499, dtype: object"
      ]
     },
     "execution_count": 17,
     "metadata": {},
     "output_type": "execute_result"
    }
   ],
   "source": [
    "reviews['reviewText']"
   ]
  },
  {
   "cell_type": "code",
   "execution_count": 18,
   "metadata": {},
   "outputs": [],
   "source": [
    "reviews['swn_score'] = reviews['reviewText'].apply(lambda text : get_sentiment_score(text))\n"
   ]
  },
  {
   "cell_type": "code",
   "execution_count": 19,
   "metadata": {},
   "outputs": [
    {
     "data": {
      "text/html": [
       "<div>\n",
       "<style scoped>\n",
       "    .dataframe tbody tr th:only-of-type {\n",
       "        vertical-align: middle;\n",
       "    }\n",
       "\n",
       "    .dataframe tbody tr th {\n",
       "        vertical-align: top;\n",
       "    }\n",
       "\n",
       "    .dataframe thead th {\n",
       "        text-align: right;\n",
       "    }\n",
       "</style>\n",
       "<table border=\"1\" class=\"dataframe\">\n",
       "  <thead>\n",
       "    <tr style=\"text-align: right;\">\n",
       "      <th></th>\n",
       "      <th>reviewText</th>\n",
       "      <th>swn_score</th>\n",
       "    </tr>\n",
       "  </thead>\n",
       "  <tbody>\n",
       "    <tr>\n",
       "      <th>1418</th>\n",
       "      <td>This is one of the worst games I've ever played. Bad gameplay. Lame character models. Bad graphics, and just a mess. Make a good LOTR game NOW!</td>\n",
       "      <td>-3.333333</td>\n",
       "    </tr>\n",
       "    <tr>\n",
       "      <th>3204</th>\n",
       "      <td>This is my favorite game of all time. Period. Other games have made bold and valiant attempts, such as Final Fantasy X and Harvest Moon. But none can compare the the masterpiece that is Ogre Battle 64. I have always been a fan of the RPG, and I picked this game up with mild expectations. I hold high standards for my games, you see. And lots of games just dont cut it. They are good, but not great. And thats what I expected from Ogre Battle. But what I got was the most fufilling game adventure of my life. An army, groups in the army, 5 characters to a group, males, females, clases, upgrades of classes, beasts, dragons, undeads, angles, And thats not even including the special people such as Carth, Destin, and Meridia! Then you could go into the customizable weapons and armor. All wraped up into an easly managable batallion at your command. If this isn't gaming bliss, I don't know what is</td>\n",
       "      <td>-0.134409</td>\n",
       "    </tr>\n",
       "  </tbody>\n",
       "</table>\n",
       "</div>"
      ],
      "text/plain": [
       "                                                                                                                                                                                                                                                                                                                                                                                                                                                                                                                                                                                                                                                                                                                                                                                                                                                                                                                              reviewText  \\\n",
       "1418                                                                                                                                                                                                                                                                                                                                                                                                                                                                                                                                                                                                                                                                                                                                                                                     This is one of the worst games I've ever played. Bad gameplay. Lame character models. Bad graphics, and just a mess. Make a good LOTR game NOW!   \n",
       "3204  This is my favorite game of all time. Period. Other games have made bold and valiant attempts, such as Final Fantasy X and Harvest Moon. But none can compare the the masterpiece that is Ogre Battle 64. I have always been a fan of the RPG, and I picked this game up with mild expectations. I hold high standards for my games, you see. And lots of games just dont cut it. They are good, but not great. And thats what I expected from Ogre Battle. But what I got was the most fufilling game adventure of my life. An army, groups in the army, 5 characters to a group, males, females, clases, upgrades of classes, beasts, dragons, undeads, angles, And thats not even including the special people such as Carth, Destin, and Meridia! Then you could go into the customizable weapons and armor. All wraped up into an easly managable batallion at your command. If this isn't gaming bliss, I don't know what is   \n",
       "\n",
       "      swn_score  \n",
       "1418  -3.333333  \n",
       "3204  -0.134409  "
      ]
     },
     "execution_count": 19,
     "metadata": {},
     "output_type": "execute_result"
    }
   ],
   "source": [
    "reviews[['reviewText','swn_score']].sample(2)"
   ]
  },
  {
   "cell_type": "code",
   "execution_count": 20,
   "metadata": {},
   "outputs": [
    {
     "data": {
      "text/html": [
       "<div>\n",
       "<style scoped>\n",
       "    .dataframe tbody tr th:only-of-type {\n",
       "        vertical-align: middle;\n",
       "    }\n",
       "\n",
       "    .dataframe tbody tr th {\n",
       "        vertical-align: top;\n",
       "    }\n",
       "\n",
       "    .dataframe thead th {\n",
       "        text-align: right;\n",
       "    }\n",
       "</style>\n",
       "<table border=\"1\" class=\"dataframe\">\n",
       "  <thead>\n",
       "    <tr style=\"text-align: right;\">\n",
       "      <th></th>\n",
       "      <th>reviewText</th>\n",
       "      <th>swn_score</th>\n",
       "    </tr>\n",
       "  </thead>\n",
       "  <tbody>\n",
       "    <tr>\n",
       "      <th>1820</th>\n",
       "      <td>Bought this game for my grand-son.  He's 8 and he got bored with this game right away.  It was a bad buy.  Just not much fun.</td>\n",
       "      <td>-0.446429</td>\n",
       "    </tr>\n",
       "    <tr>\n",
       "      <th>1647</th>\n",
       "      <td>If you are old enough to be thoroughly considering your options in what game to purchase next, then you are likely old enough to start having more mature tastes by now. A choppy framerate, and a shallow and derisive story cannot be saved by the uncommonly good musical score. Try instead \"Lost Odyssey\", which is an extremely solid choice for those who feel a need to scratch that turn-based RPG itch on the Xbox 360, and a much better value for your time and money.</td>\n",
       "      <td>4.166667</td>\n",
       "    </tr>\n",
       "  </tbody>\n",
       "</table>\n",
       "</div>"
      ],
      "text/plain": [
       "                                                                                                                                                                                                                                                                                                                                                                                                                                                                              reviewText  \\\n",
       "1820                                                                                                                                                                                                                                                                                                                                                       Bought this game for my grand-son.  He's 8 and he got bored with this game right away.  It was a bad buy.  Just not much fun.   \n",
       "1647  If you are old enough to be thoroughly considering your options in what game to purchase next, then you are likely old enough to start having more mature tastes by now. A choppy framerate, and a shallow and derisive story cannot be saved by the uncommonly good musical score. Try instead \"Lost Odyssey\", which is an extremely solid choice for those who feel a need to scratch that turn-based RPG itch on the Xbox 360, and a much better value for your time and money.   \n",
       "\n",
       "      swn_score  \n",
       "1820  -0.446429  \n",
       "1647   4.166667  "
      ]
     },
     "execution_count": 20,
     "metadata": {},
     "output_type": "execute_result"
    }
   ],
   "source": [
    "reviews[['reviewText','swn_score']].sample(2)"
   ]
  },
  {
   "cell_type": "code",
   "execution_count": 21,
   "metadata": {},
   "outputs": [
    {
     "data": {
      "image/png": "[encoded data removed]",
      "text/plain": [
       "<Figure size 1440x720 with 1 Axes>"
      ]
     },
     "metadata": {
      "needs_background": "light"
     },
     "output_type": "display_data"
    }
   ],
   "source": [
    "fig , ax = plt.subplots(nrows=1, ncols=1, figsize=(20,10))\n",
    "sns.histplot(x='swn_score', data=reviews.query(\"swn_score < 8 and swn_score > -8\"), ax=ax)\n",
    "plt.show()"
   ]
  },
  {
   "cell_type": "code",
   "execution_count": 22,
   "metadata": {},
   "outputs": [],
   "source": [
    "reviews['swn_sentiment'] = reviews['swn_score'].apply(lambda x: \"positive\" if x>1 else (\"negative\" if x<0.5 else \"neutral\"))"
   ]
  },
  {
   "cell_type": "code",
   "execution_count": 23,
   "metadata": {},
   "outputs": [
    {
     "data": {
      "text/plain": [
       "positive    2314\n",
       "negative    1635\n",
       "neutral      550\n",
       "Name: swn_sentiment, dtype: int64"
      ]
     },
     "execution_count": 23,
     "metadata": {},
     "output_type": "execute_result"
    }
   ],
   "source": [
    "reviews['swn_sentiment'].value_counts(dropna=False)"
   ]
  },
  {
   "cell_type": "code",
   "execution_count": 24,
   "metadata": {},
   "outputs": [
    {
     "data": {
      "text/plain": [
       "<AxesSubplot:xlabel='overall', ylabel='count'>"
      ]
     },
     "execution_count": 24,
     "metadata": {},
     "output_type": "execute_result"
    },
    {
     "data": {
      "image/png": "[encoded data removed]",
      "text/plain": [
       "<Figure size 432x288 with 1 Axes>"
      ]
     },
     "metadata": {
      "needs_background": "light"
     },
     "output_type": "display_data"
    }
   ],
   "source": [
    "sns.countplot(x='overall', hue='swn_sentiment' ,data = reviews)"
   ]
  },
  {
   "cell_type": "code",
   "execution_count": 25,
   "metadata": {},
   "outputs": [
    {
     "data": {
      "text/plain": [
       "<AxesSubplot:xlabel='swn_sentiment', ylabel='overall'>"
      ]
     },
     "execution_count": 25,
     "metadata": {},
     "output_type": "execute_result"
    },
    {
     "data": {
      "image/png": "[encoded data removed]",
      "text/plain": [
       "<Figure size 432x288 with 1 Axes>"
      ]
     },
     "metadata": {
      "needs_background": "light"
     },
     "output_type": "display_data"
    }
   ],
   "source": [
    "sns.boxenplot(x='swn_sentiment', y='overall', data = reviews)"
   ]
  },
  {
   "cell_type": "code",
   "execution_count": 26,
   "metadata": {},
   "outputs": [
    {
     "data": {
      "image/png": "[encoded data removed]",
      "text/plain": [
       "<Figure size 864x504 with 1 Axes>"
      ]
     },
     "metadata": {
      "needs_background": "light"
     },
     "output_type": "display_data"
    }
   ],
   "source": [
    "fig, ax = plt.subplots(nrows=1, ncols=1, figsize = (12,7))\n",
    "sns.boxenplot(x='overall', y='swn_score', data = reviews, ax=ax)\n",
    "plt.show()"
   ]
  },
  {
   "cell_type": "code",
   "execution_count": 27,
   "metadata": {},
   "outputs": [],
   "source": [
    "reviews['true_sentiment'] = \\\n",
    "    reviews['overall'].apply(lambda x: \"positive\" if x>=4 else (\"neutral\" if x==3 else \"negative\"))"
   ]
  },
  {
   "cell_type": "code",
   "execution_count": 28,
   "metadata": {},
   "outputs": [],
   "source": [
    "y_swn_pred, y_true = reviews['swn_sentiment'].tolist(), reviews['true_sentiment'].tolist()"
   ]
  },
  {
   "cell_type": "code",
   "execution_count": 29,
   "metadata": {},
   "outputs": [
    {
     "data": {
      "text/plain": [
       "(4499, 4499)"
      ]
     },
     "execution_count": 29,
     "metadata": {},
     "output_type": "execute_result"
    }
   ],
   "source": [
    "len(y_swn_pred), len(y_true)"
   ]
  },
  {
   "cell_type": "code",
   "execution_count": 30,
   "metadata": {},
   "outputs": [
    {
     "ename": "ModuleNotFoundError",
     "evalue": "No module named 'sklearn'",
     "output_type": "error",
     "traceback": [
      "\u001b[0;31m---------------------------------------------------------------------------\u001b[0m",
      "\u001b[0;31mModuleNotFoundError\u001b[0m                       Traceback (most recent call last)",
      "\u001b[0;32m/var/folders/2x/dnvvwqpn18d7j4l00xg74_qc0000gn/T/ipykernel_4560/2756668851.py\u001b[0m in \u001b[0;36m<module>\u001b[0;34m\u001b[0m\n\u001b[0;32m----> 1\u001b[0;31m \u001b[0;32mfrom\u001b[0m \u001b[0msklearn\u001b[0m\u001b[0;34m.\u001b[0m\u001b[0mmetrics\u001b[0m \u001b[0;32mimport\u001b[0m \u001b[0mconfusion_matrix\u001b[0m\u001b[0;34m\u001b[0m\u001b[0;34m\u001b[0m\u001b[0m\n\u001b[0m\u001b[1;32m      2\u001b[0m \u001b[0mcm\u001b[0m \u001b[0;34m=\u001b[0m \u001b[0mconfusion_matrix\u001b[0m\u001b[0;34m(\u001b[0m\u001b[0my_true\u001b[0m\u001b[0;34m,\u001b[0m \u001b[0my_swn_pred\u001b[0m\u001b[0;34m)\u001b[0m\u001b[0;34m\u001b[0m\u001b[0;34m\u001b[0m\u001b[0m\n",
      "\u001b[0;31mModuleNotFoundError\u001b[0m: No module named 'sklearn'"
     ]
    }
   ],
   "source": [
    "from sklearn.metrics import confusion_matrix\n",
    "cm = confusion_matrix(y_true, y_swn_pred)"
   ]
  },
  {
   "cell_type": "code",
   "execution_count": null,
   "metadata": {},
   "outputs": [],
   "source": [
    "fig , ax = plt.subplots(nrows=1, ncols=1, figsize=(8,6))\n",
    "sns.heatmap(cm, cmap='viridis_r', annot=True, fmt='d', square=True, ax=ax)\n",
    "ax.set_xlabel('Predicted')\n",
    "ax.set_ylabel('True');"
   ]
  },
  {
   "cell_type": "markdown",
   "metadata": {},
   "source": [
    "Performance Assessment"
   ]
  },
  {
   "cell_type": "markdown",
   "metadata": {},
   "source": [
    "Negative Sentiment Prediction Assessment"
   ]
  },
  {
   "cell_type": "code",
   "execution_count": null,
   "metadata": {},
   "outputs": [],
   "source": [
    "tp, tn, fp, fn = 1088, 70+242+142+1310, 265+647, 188+547"
   ]
  },
  {
   "cell_type": "code",
   "execution_count": null,
   "metadata": {},
   "outputs": [],
   "source": [
    "recall = tp / (tp+fn)\n",
    "specifity = tn / (tn+fp)\n",
    "precision = tp/(tp+fp)\n",
    "f1 = (2*tp) / (2*tp + fp + fn)"
   ]
  },
  {
   "cell_type": "code",
   "execution_count": null,
   "metadata": {},
   "outputs": [],
   "source": [
    "print(\"recall: {}\\nprecission: {}\\nf1 score: {}\".format(recall, precision, f1))"
   ]
  },
  {
   "cell_type": "markdown",
   "metadata": {},
   "source": [
    "Positive Sentiment Prediction Assessment"
   ]
  },
  {
   "cell_type": "code",
   "execution_count": null,
   "metadata": {},
   "outputs": [],
   "source": [
    "tp, tn, fp, fn = 1310, 1088+265+70+188, 242+647, 142+547"
   ]
  },
  {
   "cell_type": "code",
   "execution_count": null,
   "metadata": {},
   "outputs": [],
   "source": [
    "recall = tp / (tp+fn)\n",
    "specifity = tn / (tn+fp)\n",
    "precision = tp/(tp+fp)\n",
    "f1 = (2*tp) / (2*tp + fp + fn)"
   ]
  },
  {
   "cell_type": "code",
   "execution_count": null,
   "metadata": {},
   "outputs": [],
   "source": [
    "print(\"recall: {}\\nprecission: {}\\nf1 score: {}\".format(recall, precision, f1))"
   ]
  },
  {
   "cell_type": "markdown",
   "metadata": {},
   "source": [
    "Sentiment Scoring Model Using NLTK Opinion Lexicon"
   ]
  },
  {
   "cell_type": "code",
   "execution_count": null,
   "metadata": {},
   "outputs": [],
   "source": [
    "import nltk\n",
    "from nltk.corpus import opinion_lexicon\n",
    "from nltk.tokenize import word_tokenize, sent_tokenize"
   ]
  },
  {
   "cell_type": "code",
   "execution_count": null,
   "metadata": {},
   "outputs": [],
   "source": [
    "nltk.download(\"opinion_lexicon\")"
   ]
  },
  {
   "cell_type": "code",
   "execution_count": null,
   "metadata": {},
   "outputs": [],
   "source": [
    "pos_words = list(opinion_lexicon.positive())\n",
    "neg_words = list(opinion_lexicon.negative())"
   ]
  },
  {
   "cell_type": "code",
   "execution_count": null,
   "metadata": {},
   "outputs": [],
   "source": [
    "def get_sentiment_score_oplex(text):\n",
    "    \n",
    "    \"\"\"\n",
    "        This method returns the sentiment score of a given text using nltk opinion lexicon.\n",
    "        input: text\n",
    "        output: numeric (double) score, >0 means positive sentiment and <0 means negative sentiment.\n",
    "    \"\"\"    \n",
    "    total_score = 0\n",
    "\n",
    "    raw_sentences = sent_tokenize(text)\n",
    "    \n",
    "    for sentence in raw_sentences:\n",
    "\n",
    "        sent_score = 0     \n",
    "        sentence = str(sentence)\n",
    "        sentence = sentence.replace(\"<br />\",\" \").translate(str.maketrans('','',punctuation)).lower()\n",
    "        tokens = TreebankWordTokenizer().tokenize(text)\n",
    "        for token in tokens:\n",
    "            sent_score = sent_score + 1 if token in pos_words else (sent_score - 1 if token in neg_words else sent_score)\n",
    "        total_score = total_score + (sent_score / len(tokens))\n",
    "\n",
    "    \n",
    "    return total_score"
   ]
  },
  {
   "cell_type": "code",
   "execution_count": null,
   "metadata": {},
   "outputs": [],
   "source": [
    "reviews['oplex_sentiment_score'] = reviews['reviewText'].apply(lambda x: get_sentiment_score_oplex(x))"
   ]
  },
  {
   "cell_type": "code",
   "execution_count": null,
   "metadata": {},
   "outputs": [],
   "source": [
    "fig , ax = plt.subplots(nrows=1, ncols=1, figsize=(20,10))\n",
    "sns.histplot(x='oplex_sentiment_score',\\\n",
    "             data=reviews.query(\"oplex_sentiment_score < 1 and oplex_sentiment_score>-1\"), ax=ax)\n",
    "plt.show()"
   ]
  },
  {
   "cell_type": "code",
   "execution_count": null,
   "metadata": {},
   "outputs": [],
   "source": [
    "reviews['oplex_sentiment'] = \\\n",
    "    reviews['oplex_sentiment_score'].apply(lambda x: \"positive\" if x>0.1 else (\"negative\" if x<0 else \"neutral\"))\n"
   ]
  },
  {
   "cell_type": "code",
   "execution_count": null,
   "metadata": {},
   "outputs": [],
   "source": [
    "reviews['oplex_sentiment'].value_counts(dropna=False)\n"
   ]
  },
  {
   "cell_type": "code",
   "execution_count": null,
   "metadata": {},
   "outputs": [],
   "source": [
    "sns.countplot(x='overall', hue='oplex_sentiment' ,data = reviews)"
   ]
  },
  {
   "cell_type": "code",
   "execution_count": null,
   "metadata": {},
   "outputs": [],
   "source": [
    "sns.boxenplot(x='oplex_sentiment', y='overall', data = reviews)"
   ]
  },
  {
   "cell_type": "code",
   "execution_count": null,
   "metadata": {},
   "outputs": [],
   "source": [
    "fig, ax = plt.subplots(nrows=1, ncols=1, figsize = (12,7))\n",
    "sns.boxenplot(x='overall', y='oplex_sentiment_score', data = reviews, ax=ax)\n",
    "plt.show()"
   ]
  },
  {
   "cell_type": "code",
   "execution_count": null,
   "metadata": {},
   "outputs": [],
   "source": [
    "y_oplex_pred = reviews['oplex_sentiment'].tolist()\n"
   ]
  },
  {
   "cell_type": "code",
   "execution_count": null,
   "metadata": {},
   "outputs": [],
   "source": [
    "oplex_cm = confusion_matrix(y_true, y_oplex_pred)\n"
   ]
  },
  {
   "cell_type": "code",
   "execution_count": null,
   "metadata": {},
   "outputs": [],
   "source": [
    "fig , ax = plt.subplots(nrows=1, ncols=1, figsize=(8,6))\n",
    "sns.heatmap(oplex_cm, cmap='viridis_r', annot=True, fmt='d', square=True, ax=ax)\n",
    "ax.set_xlabel('Predicted')\n",
    "ax.set_ylabel('True');"
   ]
  },
  {
   "cell_type": "code",
   "execution_count": null,
   "metadata": {},
   "outputs": [],
   "source": [
    "oplex_cm = list(oplex_cm.ravel())"
   ]
  },
  {
   "cell_type": "code",
   "execution_count": null,
   "metadata": {},
   "outputs": [],
   "source": [
    "oplex_cm"
   ]
  },
  {
   "cell_type": "markdown",
   "metadata": {},
   "source": [
    "Negative Label Assessment"
   ]
  },
  {
   "cell_type": "code",
   "execution_count": null,
   "metadata": {},
   "outputs": [],
   "source": [
    "tp, tn, fp, fn = 804, 195+199+686+1181, 106+132, 701+495"
   ]
  },
  {
   "cell_type": "code",
   "execution_count": null,
   "metadata": {},
   "outputs": [],
   "source": [
    "recall = tp / (tp+fn)\n",
    "specifity = tn / (tn+fp)\n",
    "precision = tp/(tp+fp)\n",
    "f1 = (2*tp) / (2*tp + fp + fn)\n",
    "\n",
    "print(\"recall: {}\\nprecission: {}\\nf1 score: {}\".format(recall, precision, f1))"
   ]
  },
  {
   "cell_type": "markdown",
   "metadata": {},
   "source": [
    "Positive Label Assessment"
   ]
  },
  {
   "cell_type": "code",
   "execution_count": null,
   "metadata": {},
   "outputs": [],
   "source": [
    "tp, tn, fp, fn = 1181, 804+701+106+195, 495+199, 132+686"
   ]
  },
  {
   "cell_type": "code",
   "execution_count": null,
   "metadata": {},
   "outputs": [],
   "source": [
    "recall = tp / (tp+fn)\n",
    "specifity = tn / (tn+fp)\n",
    "precision = tp/(tp+fp)\n",
    "f1 = (2*tp) / (2*tp + fp + fn)\n",
    "\n",
    "print(\"recall: {}\\nprecission: {}\\nf1 score: {}\".format(recall, precision, f1))"
   ]
  }
 ],
 "metadata": {
  "kernelspec": {
   "display_name": "Python 3.7.13 ('tensorflow_env')",
   "language": "python",
   "name": "python3"
  },
  "language_info": {
   "codemirror_mode": {
    "name": "ipython",
    "version": 3
   },
   "file_extension": ".py",
   "mimetype": "text/x-python",
   "name": "python",
   "nbconvert_exporter": "python",
   "pygments_lexer": "ipython3",
   "version": "3.7.13"
  },
  "orig_nbformat": 4,
  "vscode": {
   "interpreter": {
    "hash": "c46df576936c8255b1c2554cedc1eb44982b877a37736dc6e33d18af7b82b03d"
   }
  }
 },
 "nbformat": 4,
 "nbformat_minor": 2
}
